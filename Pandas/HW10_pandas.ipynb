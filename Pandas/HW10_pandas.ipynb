{
 "cells": [
  {
   "cell_type": "code",
   "execution_count": 75,
   "metadata": {},
   "outputs": [],
   "source": [
    "import pandas as pd"
   ]
  },
  {
   "cell_type": "markdown",
   "metadata": {},
   "source": [
    "Задание 1\n",
    "Скачайте с сайта https://grouplens.org/datasets/movielens/ датасет любого размера. Определите какому фильму было выставлено больше всего оценок 5.0.\n",
    "\n"
   ]
  },
  {
   "cell_type": "code",
   "execution_count": 2,
   "metadata": {
    "scrolled": true
   },
   "outputs": [],
   "source": [
    "movie = pd.read_csv ('movies.csv') # данные с фильмами\n",
    "rate = pd.read_csv ('ratings.csv') # данные с рейтингами"
   ]
  },
  {
   "cell_type": "code",
   "execution_count": 3,
   "metadata": {},
   "outputs": [
    {
     "data": {
      "text/html": [
       "<div>\n",
       "<style scoped>\n",
       "    .dataframe tbody tr th:only-of-type {\n",
       "        vertical-align: middle;\n",
       "    }\n",
       "\n",
       "    .dataframe tbody tr th {\n",
       "        vertical-align: top;\n",
       "    }\n",
       "\n",
       "    .dataframe thead th {\n",
       "        text-align: right;\n",
       "    }\n",
       "</style>\n",
       "<table border=\"1\" class=\"dataframe\">\n",
       "  <thead>\n",
       "    <tr style=\"text-align: right;\">\n",
       "      <th></th>\n",
       "      <th>movieId</th>\n",
       "      <th>title</th>\n",
       "      <th>genres</th>\n",
       "      <th>userId</th>\n",
       "      <th>rating</th>\n",
       "      <th>timestamp</th>\n",
       "    </tr>\n",
       "  </thead>\n",
       "  <tbody>\n",
       "    <tr>\n",
       "      <th>0</th>\n",
       "      <td>1</td>\n",
       "      <td>Toy Story (1995)</td>\n",
       "      <td>Adventure|Animation|Children|Comedy|Fantasy</td>\n",
       "      <td>1</td>\n",
       "      <td>4.0</td>\n",
       "      <td>964982703</td>\n",
       "    </tr>\n",
       "    <tr>\n",
       "      <th>1</th>\n",
       "      <td>1</td>\n",
       "      <td>Toy Story (1995)</td>\n",
       "      <td>Adventure|Animation|Children|Comedy|Fantasy</td>\n",
       "      <td>5</td>\n",
       "      <td>4.0</td>\n",
       "      <td>847434962</td>\n",
       "    </tr>\n",
       "    <tr>\n",
       "      <th>2</th>\n",
       "      <td>1</td>\n",
       "      <td>Toy Story (1995)</td>\n",
       "      <td>Adventure|Animation|Children|Comedy|Fantasy</td>\n",
       "      <td>7</td>\n",
       "      <td>4.5</td>\n",
       "      <td>1106635946</td>\n",
       "    </tr>\n",
       "    <tr>\n",
       "      <th>3</th>\n",
       "      <td>1</td>\n",
       "      <td>Toy Story (1995)</td>\n",
       "      <td>Adventure|Animation|Children|Comedy|Fantasy</td>\n",
       "      <td>15</td>\n",
       "      <td>2.5</td>\n",
       "      <td>1510577970</td>\n",
       "    </tr>\n",
       "    <tr>\n",
       "      <th>4</th>\n",
       "      <td>1</td>\n",
       "      <td>Toy Story (1995)</td>\n",
       "      <td>Adventure|Animation|Children|Comedy|Fantasy</td>\n",
       "      <td>17</td>\n",
       "      <td>4.5</td>\n",
       "      <td>1305696483</td>\n",
       "    </tr>\n",
       "  </tbody>\n",
       "</table>\n",
       "</div>"
      ],
      "text/plain": [
       "   movieId             title                                       genres  \\\n",
       "0        1  Toy Story (1995)  Adventure|Animation|Children|Comedy|Fantasy   \n",
       "1        1  Toy Story (1995)  Adventure|Animation|Children|Comedy|Fantasy   \n",
       "2        1  Toy Story (1995)  Adventure|Animation|Children|Comedy|Fantasy   \n",
       "3        1  Toy Story (1995)  Adventure|Animation|Children|Comedy|Fantasy   \n",
       "4        1  Toy Story (1995)  Adventure|Animation|Children|Comedy|Fantasy   \n",
       "\n",
       "   userId  rating   timestamp  \n",
       "0       1     4.0   964982703  \n",
       "1       5     4.0   847434962  \n",
       "2       7     4.5  1106635946  \n",
       "3      15     2.5  1510577970  \n",
       "4      17     4.5  1305696483  "
      ]
     },
     "execution_count": 3,
     "metadata": {},
     "output_type": "execute_result"
    }
   ],
   "source": [
    "rezult = pd.merge(left=movie,right=rate,on=\"movieId\") # Объединяем данные по movieId\n",
    "rezult.head()\n",
    "# rezult.shape"
   ]
  },
  {
   "cell_type": "code",
   "execution_count": 4,
   "metadata": {},
   "outputs": [
    {
     "data": {
      "text/html": [
       "<div>\n",
       "<style scoped>\n",
       "    .dataframe tbody tr th:only-of-type {\n",
       "        vertical-align: middle;\n",
       "    }\n",
       "\n",
       "    .dataframe tbody tr th {\n",
       "        vertical-align: top;\n",
       "    }\n",
       "\n",
       "    .dataframe thead th {\n",
       "        text-align: right;\n",
       "    }\n",
       "</style>\n",
       "<table border=\"1\" class=\"dataframe\">\n",
       "  <thead>\n",
       "    <tr style=\"text-align: right;\">\n",
       "      <th></th>\n",
       "      <th>movieId</th>\n",
       "      <th>title</th>\n",
       "      <th>genres</th>\n",
       "      <th>userId</th>\n",
       "      <th>rating</th>\n",
       "      <th>timestamp</th>\n",
       "    </tr>\n",
       "  </thead>\n",
       "  <tbody>\n",
       "    <tr>\n",
       "      <th>9</th>\n",
       "      <td>1</td>\n",
       "      <td>Toy Story (1995)</td>\n",
       "      <td>Adventure|Animation|Children|Comedy|Fantasy</td>\n",
       "      <td>31</td>\n",
       "      <td>5.0</td>\n",
       "      <td>850466616</td>\n",
       "    </tr>\n",
       "    <tr>\n",
       "      <th>12</th>\n",
       "      <td>1</td>\n",
       "      <td>Toy Story (1995)</td>\n",
       "      <td>Adventure|Animation|Children|Comedy|Fantasy</td>\n",
       "      <td>40</td>\n",
       "      <td>5.0</td>\n",
       "      <td>832058959</td>\n",
       "    </tr>\n",
       "    <tr>\n",
       "      <th>13</th>\n",
       "      <td>1</td>\n",
       "      <td>Toy Story (1995)</td>\n",
       "      <td>Adventure|Animation|Children|Comedy|Fantasy</td>\n",
       "      <td>43</td>\n",
       "      <td>5.0</td>\n",
       "      <td>848993983</td>\n",
       "    </tr>\n",
       "    <tr>\n",
       "      <th>16</th>\n",
       "      <td>1</td>\n",
       "      <td>Toy Story (1995)</td>\n",
       "      <td>Adventure|Animation|Children|Comedy|Fantasy</td>\n",
       "      <td>46</td>\n",
       "      <td>5.0</td>\n",
       "      <td>834787906</td>\n",
       "    </tr>\n",
       "    <tr>\n",
       "      <th>19</th>\n",
       "      <td>1</td>\n",
       "      <td>Toy Story (1995)</td>\n",
       "      <td>Adventure|Animation|Children|Comedy|Fantasy</td>\n",
       "      <td>57</td>\n",
       "      <td>5.0</td>\n",
       "      <td>965796031</td>\n",
       "    </tr>\n",
       "    <tr>\n",
       "      <th>20</th>\n",
       "      <td>1</td>\n",
       "      <td>Toy Story (1995)</td>\n",
       "      <td>Adventure|Animation|Children|Comedy|Fantasy</td>\n",
       "      <td>63</td>\n",
       "      <td>5.0</td>\n",
       "      <td>1443199669</td>\n",
       "    </tr>\n",
       "    <tr>\n",
       "      <th>24</th>\n",
       "      <td>1</td>\n",
       "      <td>Toy Story (1995)</td>\n",
       "      <td>Adventure|Animation|Children|Comedy|Fantasy</td>\n",
       "      <td>71</td>\n",
       "      <td>5.0</td>\n",
       "      <td>864737933</td>\n",
       "    </tr>\n",
       "    <tr>\n",
       "      <th>34</th>\n",
       "      <td>1</td>\n",
       "      <td>Toy Story (1995)</td>\n",
       "      <td>Adventure|Animation|Children|Comedy|Fantasy</td>\n",
       "      <td>96</td>\n",
       "      <td>5.0</td>\n",
       "      <td>964772990</td>\n",
       "    </tr>\n",
       "    <tr>\n",
       "      <th>50</th>\n",
       "      <td>1</td>\n",
       "      <td>Toy Story (1995)</td>\n",
       "      <td>Adventure|Animation|Children|Comedy|Fantasy</td>\n",
       "      <td>145</td>\n",
       "      <td>5.0</td>\n",
       "      <td>832105242</td>\n",
       "    </tr>\n",
       "    <tr>\n",
       "      <th>51</th>\n",
       "      <td>1</td>\n",
       "      <td>Toy Story (1995)</td>\n",
       "      <td>Adventure|Animation|Children|Comedy|Fantasy</td>\n",
       "      <td>151</td>\n",
       "      <td>5.0</td>\n",
       "      <td>855947195</td>\n",
       "    </tr>\n",
       "  </tbody>\n",
       "</table>\n",
       "</div>"
      ],
      "text/plain": [
       "    movieId             title                                       genres  \\\n",
       "9         1  Toy Story (1995)  Adventure|Animation|Children|Comedy|Fantasy   \n",
       "12        1  Toy Story (1995)  Adventure|Animation|Children|Comedy|Fantasy   \n",
       "13        1  Toy Story (1995)  Adventure|Animation|Children|Comedy|Fantasy   \n",
       "16        1  Toy Story (1995)  Adventure|Animation|Children|Comedy|Fantasy   \n",
       "19        1  Toy Story (1995)  Adventure|Animation|Children|Comedy|Fantasy   \n",
       "20        1  Toy Story (1995)  Adventure|Animation|Children|Comedy|Fantasy   \n",
       "24        1  Toy Story (1995)  Adventure|Animation|Children|Comedy|Fantasy   \n",
       "34        1  Toy Story (1995)  Adventure|Animation|Children|Comedy|Fantasy   \n",
       "50        1  Toy Story (1995)  Adventure|Animation|Children|Comedy|Fantasy   \n",
       "51        1  Toy Story (1995)  Adventure|Animation|Children|Comedy|Fantasy   \n",
       "\n",
       "    userId  rating   timestamp  \n",
       "9       31     5.0   850466616  \n",
       "12      40     5.0   832058959  \n",
       "13      43     5.0   848993983  \n",
       "16      46     5.0   834787906  \n",
       "19      57     5.0   965796031  \n",
       "20      63     5.0  1443199669  \n",
       "24      71     5.0   864737933  \n",
       "34      96     5.0   964772990  \n",
       "50     145     5.0   832105242  \n",
       "51     151     5.0   855947195  "
      ]
     },
     "execution_count": 4,
     "metadata": {},
     "output_type": "execute_result"
    }
   ],
   "source": [
    "rezult[rezult.rating == 5].head(10) # Выделяем данные с рейтингом 5\n",
    "# rezult[rezult.rating == 5].shape"
   ]
  },
  {
   "cell_type": "code",
   "execution_count": 5,
   "metadata": {},
   "outputs": [
    {
     "data": {
      "text/plain": [
       "Shawshank Redemption, The (1994)             153\n",
       "Pulp Fiction (1994)                          123\n",
       "Forrest Gump (1994)                          116\n",
       "Matrix, The (1999)                           109\n",
       "Star Wars: Episode IV - A New Hope (1977)    104\n",
       "Silence of the Lambs, The (1991)              92\n",
       "Schindler's List (1993)                       92\n",
       "Godfather, The (1972)                         88\n",
       "Fight Club (1999)                             81\n",
       "Braveheart (1995)                             80\n",
       "Name: title, dtype: int64"
      ]
     },
     "execution_count": 5,
     "metadata": {},
     "output_type": "execute_result"
    }
   ],
   "source": [
    "rezult[rezult.rating == 5]['title'].value_counts().head(10) # ТОП 10 фильмов c рейтингом 5"
   ]
  },
  {
   "cell_type": "markdown",
   "metadata": {},
   "source": [
    "Задание 2\n",
    "По данным файла power.csv посчитайте суммарное потребление стран Прибалтики (Латвия, Литва и Эстония) категорий 4, 12 и 21 за период с 2005 по 2010 года. Не учитывайте в расчетах отрицательные значения quantity."
   ]
  },
  {
   "cell_type": "code",
   "execution_count": 56,
   "metadata": {},
   "outputs": [
    {
     "data": {
      "text/plain": [
       "(1189482, 4)"
      ]
     },
     "execution_count": 56,
     "metadata": {},
     "output_type": "execute_result"
    }
   ],
   "source": [
    "data = pd.read_csv('power.csv')\n",
    "data.shape"
   ]
  },
  {
   "cell_type": "code",
   "execution_count": 52,
   "metadata": {},
   "outputs": [
    {
     "data": {
      "text/plain": [
       "(27306, 4)"
      ]
     },
     "execution_count": 52,
     "metadata": {},
     "output_type": "execute_result"
    }
   ],
   "source": [
    "filtered_countries = data[data['country'].isin (['Estonia','Lithuania','Latvia'])] # Фильтрурую по странам\n",
    "filtered_countries.shape"
   ]
  },
  {
   "cell_type": "code",
   "execution_count": 53,
   "metadata": {},
   "outputs": [
    {
     "data": {
      "text/plain": [
       "(1253, 4)"
      ]
     },
     "execution_count": 53,
     "metadata": {},
     "output_type": "execute_result"
    }
   ],
   "source": [
    "fc = filtered_countries[filtered_countries['category'].isin ([4,12,21])] # Фильтрурую по категории\n",
    "fc.shape"
   ]
  },
  {
   "cell_type": "code",
   "execution_count": 54,
   "metadata": {},
   "outputs": [
    {
     "data": {
      "text/plain": [
       "(1245, 4)"
      ]
     },
     "execution_count": 54,
     "metadata": {},
     "output_type": "execute_result"
    }
   ],
   "source": [
    "fc_0 = fc[fc.quantity >= 0] # Откидываю отрицательные занчения\n",
    "fc_0.shape"
   ]
  },
  {
   "cell_type": "code",
   "execution_count": 55,
   "metadata": {},
   "outputs": [
    {
     "data": {
      "text/plain": [
       "(408, 4)"
      ]
     },
     "execution_count": 55,
     "metadata": {},
     "output_type": "execute_result"
    }
   ],
   "source": [
    "fc_total = fc_0[fc_0['year'].isin ([2005,2006,2007,2008,2009,2010])] # Фильтрурую по годам\n",
    "fc_total.shape"
   ]
  },
  {
   "cell_type": "code",
   "execution_count": 47,
   "metadata": {},
   "outputs": [
    {
     "name": "stdout",
     "output_type": "stream",
     "text": [
      " Cуммарное потребление стран Прибалтики категорий 4, 12 и 21 за период с 2005 по 2010 года  240580.0\n"
     ]
    }
   ],
   "source": [
    "summ = fc_total['quantity'].sum() # Рассчитываю сумму\n",
    "print (f' Cуммарное потребление стран Прибалтики категорий 4, 12 и 21 за период с 2005 по 2010 года  {summ}' )"
   ]
  },
  {
   "cell_type": "markdown",
   "metadata": {},
   "source": [
    "Задание 3\n",
    "Выберите страницу любого сайта с табличными данными. Импортируйте таблицы в pandas dataframe.\n",
    "Примеры страниц (необязательно брать именно эти):\n",
    "https://fortrader.org/quotes\n",
    "https://www.finanz.ru/valyuty/v-realnom-vremeni"
   ]
  },
  {
   "cell_type": "code",
   "execution_count": 81,
   "metadata": {},
   "outputs": [
    {
     "data": {
      "text/plain": [
       "[    Период  \\\n",
       " 0     2018   \n",
       " 1     2017   \n",
       " 2  1П 2017   \n",
       " 3     2016   \n",
       " 4     2015   \n",
       " 5     2014   \n",
       " 6     2013   \n",
       " 7     2012   \n",
       " 8     2011   \n",
       " \n",
       "   Дата составления списка лиц, имеющих право  на получение дивидендов  \\\n",
       " 0                                         14.05.2019                    \n",
       " 1                                         15.05.2018                    \n",
       " 2                                         29.09.2017                    \n",
       " 3                                         16.05.2017                    \n",
       " 4                                         16.05.2016                    \n",
       " 5                                         12.05.2015                    \n",
       " 6                                         11.07.2014                    \n",
       " 7                                         20.05.2013                    \n",
       " 8                                         21.05.2012                    \n",
       " \n",
       "    Размер объявленных дивидендов  в расчете на одну акцию, руб.  \\\n",
       " 0                                                770              \n",
       " 1                                                547              \n",
       " 2                                                249              \n",
       " 3                                                768              \n",
       " 4                                                711              \n",
       " 5                                                387              \n",
       " 6                                                238              \n",
       " 7                                                122              \n",
       " 8                                                 31              \n",
       " \n",
       "   Размер объявленных дивидендов  (до вычета налога на доходы), млн. руб.  \\\n",
       " 0                                          17 528,29                       \n",
       " 1                                          12 451,92                       \n",
       " 2                                           5 668,24                       \n",
       " 3                                          17 482,76                       \n",
       " 4                                          16 201,11                       \n",
       " 5                                             881832                       \n",
       " 6                                             542315                       \n",
       " 7                                             290176                       \n",
       " 8                                              68120                       \n",
       " \n",
       "   % от чистой прибыли по МСФО  \n",
       " 0                         89%  \n",
       " 1                        89%1  \n",
       " 2                           -  \n",
       " 3                         69%  \n",
       " 4                         58%  \n",
       " 5                         55%  \n",
       " 6                         47%  \n",
       " 7                         35%  \n",
       " 8                         10%  ]"
      ]
     },
     "execution_count": 81,
     "metadata": {},
     "output_type": "execute_result"
    }
   ],
   "source": [
    "page_url = 'https://www.moex.com/s1345'\n",
    "\n",
    "# Импортируем нужную нам страницу в df\n",
    "# attrs = {'class': 'news_table'} ---> указываем какой именно блок нам нужен\n",
    "# encoding='utf-8' ---> указываем кодировку страниц для корректного отображения кириллицы\n",
    "df =pd.read_html(page_url, attrs = {'class': 'table1'}, encoding='utf-8')\n",
    "df\n",
    "\n"
   ]
  },
  {
   "cell_type": "code",
   "execution_count": 85,
   "metadata": {},
   "outputs": [
    {
     "data": {
      "text/plain": [
       "[   По продажам  за апрель 2020 г.  По продажам  за апрель 2020 г..1  \\\n",
       " 0                             NaN                                 1   \n",
       " 1                             NaN                                 2   \n",
       " 2                             NaN                                 3   \n",
       " 3                             NaN                                 4   \n",
       " 4                             NaN                                 5   \n",
       " \n",
       "   По продажам  за апрель 2020 г..2 По продажам  за апрель 2020 г..3  \\\n",
       " 0                             Лада                            9 396   \n",
       " 1                              Kia                            4 334   \n",
       " 2                          Renault                            3 135   \n",
       " 3                       Volkswagen                            3 093   \n",
       " 4                            Skoda                            3 041   \n",
       " \n",
       "    По продажам  за апрель 2020 г..4  \n",
       " 0                               NaN  \n",
       " 1                               NaN  \n",
       " 2                               NaN  \n",
       " 3                               NaN  \n",
       " 4                               NaN  ,\n",
       "    По росту  за апрель 2020 г.  По росту  за апрель 2020 г..1  \\\n",
       " 0                          NaN                              1   \n",
       " 1                          NaN                              2   \n",
       " 2                          NaN                              3   \n",
       " 3                          NaN                              4   \n",
       " 4                          NaN                              5   \n",
       " \n",
       "   По росту  за апрель 2020 г..2 По росту  за апрель 2020 г..3  \\\n",
       " 0                       Changan                           53%   \n",
       " 1                         Isuzu                          -30%   \n",
       " 2                         Haval                          -30%   \n",
       " 3                      Chrysler                          -33%   \n",
       " 4                         Geely                          -35%   \n",
       " \n",
       "    По росту  за апрель 2020 г..4  \n",
       " 0                            NaN  \n",
       " 1                            NaN  \n",
       " 2                            NaN  \n",
       " 3                            NaN  \n",
       " 4                            NaN  ,\n",
       "    По росту за январь -апрель 2020  По росту за январь -апрель 2020.1  \\\n",
       " 0                              NaN                                  1   \n",
       " 1                              NaN                                  2   \n",
       " 2                              NaN                                  3   \n",
       " 3                              NaN                                  4   \n",
       " 4                              NaN                                  5   \n",
       " \n",
       "   По росту за январь -апрель 2020.2 По росту за январь -апрель 2020.3  \\\n",
       " 0                           Changan                              329%   \n",
       " 1                             Haval                              118%   \n",
       " 2                          Cadillac                               34%   \n",
       " 3                            Suzuki                               28%   \n",
       " 4                             Geely                               27%   \n",
       " \n",
       "    По росту за январь -апрель 2020.4  \n",
       " 0                                NaN  \n",
       " 1                                NaN  \n",
       " 2                                NaN  \n",
       " 3                                NaN  \n",
       " 4                                NaN  ]"
      ]
     },
     "execution_count": 85,
     "metadata": {},
     "output_type": "execute_result"
    }
   ],
   "source": [
    "page_url = 'https://abreview.ru/stat/aeb/'\n",
    "\n",
    "# Импортируем нужную нам страницу в df\n",
    "# attrs = {'class': 'news_table'} ---> указываем какой именно блок нам нужен\n",
    "# encoding='utf-8' ---> указываем кодировку страниц для корректного отображения кириллицы\n",
    "df1 =pd.read_html(page_url, attrs = {'class': 'top5'}, encoding='utf-8')\n",
    "df1\n"
   ]
  },
  {
   "cell_type": "code",
   "execution_count": null,
   "metadata": {},
   "outputs": [],
   "source": []
  },
  {
   "cell_type": "code",
   "execution_count": null,
   "metadata": {},
   "outputs": [],
   "source": []
  }
 ],
 "metadata": {
  "kernelspec": {
   "display_name": "Python 3",
   "language": "python",
   "name": "python3"
  },
  "language_info": {
   "codemirror_mode": {
    "name": "ipython",
    "version": 3
   },
   "file_extension": ".py",
   "mimetype": "text/x-python",
   "name": "python",
   "nbconvert_exporter": "python",
   "pygments_lexer": "ipython3",
   "version": "3.7.6"
  }
 },
 "nbformat": 4,
 "nbformat_minor": 4
}
