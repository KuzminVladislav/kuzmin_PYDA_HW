{
 "cells": [
  {
   "cell_type": "markdown",
   "metadata": {},
   "source": [
    "Задание 1. Даны 2 строки: long_phrase и short_phrase. Напишите код, который проверяет действительно ли длинная фраза long_phrase длиннее короткой short_phrase. И выводит True или False в зависимости от результата сравнения."
   ]
  },
  {
   "cell_type": "code",
   "execution_count": 23,
   "metadata": {},
   "outputs": [
    {
     "data": {
      "text/plain": [
       "True"
      ]
     },
     "execution_count": 23,
     "metadata": {},
     "output_type": "execute_result"
    }
   ],
   "source": [
    "len ('Насколько проще было бы писать программы, если бы не заказчики') >= len ('640Кб должно хватить для любых задач. Билл Гейтс (по легенде)')"
   ]
  },
  {
   "cell_type": "markdown",
   "metadata": {},
   "source": [
    "Задание 2. Дано значение объема файла в байтах (в мегабайте 2^20 байт). Напишите перевод этого значения в мегабайты в формате: \"Объем файла равен 213.68Mb\"."
   ]
  },
  {
   "cell_type": "code",
   "execution_count": 22,
   "metadata": {},
   "outputs": [
    {
     "name": "stdout",
     "output_type": "stream",
     "text": [
      "Введите значение в байтах  2000000000\n",
      "Объем файла равен 1907.3486328125 Mb\n"
     ]
    }
   ],
   "source": [
    "user_input_bytes = int(input('Введите значение в байтах  '))\n",
    "user_input_MB = user_input_bytes / (2**20)\n",
    "print ('Объем файла равен', user_input_MB, 'Mb')"
   ]
  },
  {
   "cell_type": "markdown",
   "metadata": {},
   "source": [
    "Задание 3. Разработать приложение для определения знака зодиака по дате рождения. Пример:\n",
    "\n",
    "Введите месяц: март\n",
    "\n",
    "Введите число: 6\n",
    "\n",
    "Вывод: Рыбы"
   ]
  },
  {
   "cell_type": "code",
   "execution_count": 21,
   "metadata": {},
   "outputs": [
    {
     "name": "stdout",
     "output_type": "stream",
     "text": [
      "Введите месяц рождения6\n",
      "Введите число в месяце рождения17\n",
      "Близнецы\n"
     ]
    }
   ],
   "source": [
    "user_input_m = int(input('Введите месяц рождения  '))\n",
    "user_input_d = int(input('Введите число в месяце рождения  '))\n",
    "if (user_input_d >= 22 and user_input_m == 12) or (user_input_d <= 20 and user_input_m == 1):\n",
    "    print('Козерог') \n",
    "elif (user_input_d >= 21 and user_input_m == 1) or (user_input_d <= 19 and user_input_m == 2):\n",
    "    print('Водолей') \n",
    "elif (user_input_d >= 20 and user_input_m == 2) or (user_input_d <= 20 and user_input_m == 3):\n",
    "    print('Рыбы') \n",
    "elif (user_input_d >= 21 and user_input_m == 3) or (user_input_d <= 19 and user_input_m == 4):\n",
    "    print('Овен') \n",
    "elif (user_input_d >= 20 and user_input_m == 4) or (user_input_d <= 20 and user_input_m == 5):\n",
    "    print('Телец') \n",
    "elif (user_input_d >= 21 and user_input_m == 5) or (user_input_d <= 20 and user_input_m == 6):\n",
    "    print('Близнецы') \n",
    "elif (user_input_d >= 21 and user_input_m == 6) or (user_input_d <= 22 and user_input_m == 7):\n",
    "    print('Рак') \n",
    "elif (user_input_d >= 23 and user_input_m == 7) or (user_input_d <= 22 and user_input_m == 8):\n",
    "    print('Лев') \n",
    "elif (user_input_d >= 23 and user_input_m == 8) or (user_input_d <= 22 and user_input_m == 9):\n",
    "    print ('Дева') \n",
    "elif (user_input_d >= 23 and user_input_m == 9) or (user_input_d <= 23 and user_input_m == 10):\n",
    "    print ('Весы') \n",
    "elif (user_input_d >= 24 and user_input_m == 10) or (user_input_d <= 22 and user_input_m == 11):\n",
    "    print ('Скорпион') \n",
    "elif (user_input_d >= 23 and user_input_m == 11) or (user_input_d <= 21 and user_input_m == 12):\n",
    "    print ('Стрелец')   \n",
    "else:\n",
    "    print('Сорри, какая то фигня вышла)))))')"
   ]
  },
  {
   "cell_type": "markdown",
   "metadata": {},
   "source": [
    "Задание 4. Нужно разработать приложение для финансового планирования. Приложение учитывает сколько уходит на ипотеку, \"на жизнь\" и сколько нужно отложить на пенсию. Пользователь вводит:\n",
    "\n",
    "заработанную плату в месяц.\n",
    "сколько процентов от ЗП уходит на ипотеку.\n",
    "сколько процентов от ЗП уходит \"на жизнь\".\n",
    "сколько раз приходит премия в год.\n",
    "Остальная часть заработанной платы откладывается на пенсию.\n",
    "\n",
    "Также пользователю приходит премия в размере зарплаты, от которой половина уходит на отпуск, а вторая половина откладывается.\n",
    "\n",
    "Программа должна учитывать сколько премий было в год.\n",
    "\n",
    "Нужно вывести сколько денег тратит пользователь на ипотеку и сколько он накопит за год.\n",
    "\n",
    "Пример:\n",
    "\n",
    "Введите заработанную плату в месяц: 100000\n",
    "\n",
    "Введите сколько процентов уходит на ипотеку: 30\n",
    "\n",
    "Введите сколько процентов уходит на жизнь: 50\n",
    "\n",
    "Введите количество премий за год: 2\n",
    "\n",
    "Вывод: На ипотеку было потрачено: 360000 рублей Было накоплено: 340000 рублей"
   ]
  },
  {
   "cell_type": "code",
   "execution_count": 37,
   "metadata": {},
   "outputs": [
    {
     "name": "stdout",
     "output_type": "stream",
     "text": [
      "Введите заработную плату (оклад) в месяц, у.е.  1000\n",
      "Введите расходы на ипотеку, в % от зарплаты  40\n",
      "Введите расходы на жизнь, в % от зарплаты  30\n",
      "Введите кол-во премий в год  2\n",
      "Ввведите размер премии, в окладах  2\n",
      "На ипотеку потрачено  4800.0 у.е. в год\n",
      "Сбережения составили   5600.000000000001 у.е. в год\n"
     ]
    }
   ],
   "source": [
    "zp = int(input('Введите заработную плату (оклад) в месяц, у.е.  ')) # Ежемесячный доход\n",
    "ip = int(input('Введите расходы на ипотеку, в % от зарплаты  '))\n",
    "life = int(input('Введите расходы на жизнь, в % от зарплаты  '))\n",
    "pr = int(input('Введите кол-во премий в год  '))\n",
    "pr_value = int(input('Ввведите размер премии, в окладах  '))\n",
    "ip_year = zp * ip / 100 *12 # размер расходов на ипотеку в год\n",
    "print ('На ипотеку потрачено ', ip_year, 'у.е. в год') \n",
    "savings = zp * (1- (ip + life) / 100) * 12 + pr * pr_value *zp * 0.5 # Сбережения от зарплаты и 50% годовой премии\n",
    "print ('Сбережения составили  ', savings, 'у.е. в год')"
   ]
  }
 ],
 "metadata": {
  "kernelspec": {
   "display_name": "Python 3",
   "language": "python",
   "name": "python3"
  },
  "language_info": {
   "codemirror_mode": {
    "name": "ipython",
    "version": 3
   },
   "file_extension": ".py",
   "mimetype": "text/x-python",
   "name": "python",
   "nbconvert_exporter": "python",
   "pygments_lexer": "ipython3",
   "version": "3.7.6"
  }
 },
 "nbformat": 4,
 "nbformat_minor": 4
}
