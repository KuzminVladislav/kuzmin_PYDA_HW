{
 "cells": [
  {
   "cell_type": "markdown",
   "metadata": {},
   "source": [
    "Домашнее задание по Функциям"
   ]
  },
  {
   "cell_type": "markdown",
   "metadata": {},
   "source": [
    "Вы работаете секретарем и вам постоянно приходят различные документы. Вы должны быть очень внимательны, чтобы не потерять ни один документ. Каталог документов хранится в следующем виде:"
   ]
  },
  {
   "cell_type": "markdown",
   "metadata": {},
   "source": [
    "Необходимо реализовать пользовательские команды (внимание! это не название функций, которые должны быть выразительными, а команды, которые вводит пользователь, чтобы получить необходимый результат):\n",
    "\n",
    "p – people – команда, которая спросит номер документа и выведет имя человека, которому он принадлежит;\n",
    "s – shelf – команда, которая спросит номер документа и выведет номер полки, на которой он находится\n",
    "Правильно обработайте ситуации, когда пользователь будет вводить несуществующий документ.\n",
    "l – list – команда, которая выведет список всех документов в формате: passport \"2207 876234\" \"Василий Гупкин\"\n",
    "as – add shelf – команда, которая спросит номер новой полки и добавит ее в перечень. Предусмотрите случай, когда пользователь добавляет полку, которая уже существует.\n",
    "d – delete – команда, которая спросит номер документа и удалит его из каталога и из перечня полок. Предусмотрите сценарий, когда пользователь вводит несуществующий документ;\n",
    "m – move – команда, которая спросит номер документа и целевую полку и переместит его с текущей полки на целевую. Корректно обработайте кейсы, когда пользователь пытается переместить несуществующий документ или переместить документ на несуществующую полку;\n",
    "a – add – команда, которая добавит новый документ в каталог и в перечень полок, спросив его номер, тип, имя владельца и номер полки, на котором он будет храниться. Корректно обработайте ситуацию, когда пользователь будет пытаться добавить документ на несуществующую полку."
   ]
  },
  {
   "cell_type": "markdown",
   "metadata": {},
   "source": [
    "documents = [\n",
    "    {'type': 'passport', 'number': '2207 876234', 'name': 'Василий Гупкин'},\n",
    "    {'type': 'invoice', 'number': '11-2', 'name': 'Геннадий Покемонов'},\n",
    "    {'type': 'insurance', 'number': '10006', 'name': 'Аристарх Павлов'}\n",
    "]"
   ]
  },
  {
   "cell_type": "markdown",
   "metadata": {},
   "source": [
    "directories = {\n",
    "    '1': ['2207 876234', '11-2'],\n",
    "    '2': ['10006'],\n",
    "    '3': []\n",
    "}"
   ]
  },
  {
   "cell_type": "code",
   "execution_count": 43,
   "metadata": {},
   "outputs": [],
   "source": [
    "#p – people – команда, которая спросит номер документа и выведет имя человека, которому он принадлежит;\n",
    "\n",
    "documents = [\n",
    "    {'type': 'passport', 'number': '2207 876234', 'name': 'Василий Гупкин'},\n",
    "    {'type': 'invoice', 'number': '11-2', 'name': 'Геннадий Покемонов'},\n",
    "    {'type': 'insurance', 'number': '10006', 'name': 'Аристарх Павлов'}\n",
    "]"
   ]
  },
  {
   "cell_type": "code",
   "execution_count": 44,
   "metadata": {},
   "outputs": [],
   "source": [
    "def num_doc(num_doc_klient): #Функция выводящая имя владельца документа\n",
    "    for doc in num_doc_klient:\n",
    "        if doc['number'] == num_doc_kl:\n",
    "            return print(f\"{'Владелец документа:  '}{ doc['name']}\")\n",
    "    print ('Документ не существует')"
   ]
  },
  {
   "cell_type": "code",
   "execution_count": 45,
   "metadata": {},
   "outputs": [
    {
     "name": "stdout",
     "output_type": "stream",
     "text": [
      "Введите номер документа 11-2\n",
      "Владелец документа:  Геннадий Покемонов\n"
     ]
    }
   ],
   "source": [
    "num_doc_kl = str(input ('Введите номер документа '))   \n",
    "num_doc(documents)"
   ]
  },
  {
   "cell_type": "code",
   "execution_count": 52,
   "metadata": {},
   "outputs": [],
   "source": [
    "# s – shelf – команда, которая спросит номер документа и выведет номер полки, на которой он находится\n",
    "# Правильно обработайте ситуации, когда пользователь будет вводить несуществующий документ.\n",
    "directories = {\n",
    "    '1': ['2207 876234', '11-2'],\n",
    "    '2': ['10006'],\n",
    "    '3': []\n",
    "}"
   ]
  },
  {
   "cell_type": "code",
   "execution_count": 53,
   "metadata": {},
   "outputs": [],
   "source": [
    "def shelf_doc(num_shelf) :#Функция выводящая номер полки по документу\n",
    "    for key, shelf in num_shelf.items():\n",
    "#         print (shelf)\n",
    "        if num_doc_kl in shelf :\n",
    "            return print(f\"{'Номер полки: '}{key}\")\n",
    "    print ('Документа не существует')"
   ]
  },
  {
   "cell_type": "code",
   "execution_count": 55,
   "metadata": {},
   "outputs": [
    {
     "name": "stdout",
     "output_type": "stream",
     "text": [
      "Введите номер документа 11-3\n",
      "Документа не существует\n"
     ]
    }
   ],
   "source": [
    "num_doc_kl = str(input ('Введите номер документа '))\n",
    "shelf_doc(directories)"
   ]
  },
  {
   "cell_type": "code",
   "execution_count": 50,
   "metadata": {},
   "outputs": [],
   "source": [
    "# l – list – команда, которая выведет список всех документов в формате: passport \"2207 876234\" \"Василий Гупкин\"\n",
    "documents = [\n",
    "    {'type': 'passport', 'number': '2207 876234', 'name': 'Василий Гупкин'},\n",
    "    {'type': 'invoice', 'number': '11-2', 'name': 'Геннадий Покемонов'},\n",
    "    {'type': 'insurance', 'number': '10006', 'name': 'Аристарх Павлов'}\n",
    "]\n"
   ]
  },
  {
   "cell_type": "code",
   "execution_count": 51,
   "metadata": {},
   "outputs": [
    {
     "name": "stdout",
     "output_type": "stream",
     "text": [
      "passport, 2207 876234, Василий Гупкин\n",
      "invoice, 11-2, Геннадий Покемонов\n",
      "insurance, 10006, Аристарх Павлов\n"
     ]
    }
   ],
   "source": [
    "def doc_print (doc_list):\n",
    "    for info in doc_list:\n",
    "        print (info['type'], info['number'], info['name'], sep=', ')\n",
    "\n",
    "doc_print(documents)"
   ]
  },
  {
   "cell_type": "code",
   "execution_count": 56,
   "metadata": {},
   "outputs": [],
   "source": [
    "# as – add shelf – команда, которая спросит номер новой полки и добавит ее в перечень. \n",
    "# Предусмотрите случай, когда пользователь добавляет полку, которая уже существует.\n",
    "directories = {\n",
    "    '1': ['2207 876234', '11-2'],\n",
    "    '2': ['10006'],\n",
    "    '3': []\n",
    "}"
   ]
  },
  {
   "cell_type": "code",
   "execution_count": 57,
   "metadata": {},
   "outputs": [],
   "source": [
    "def add_shelf(shelf_list):\n",
    "#     shelf_new = str(input ('Введите номер новой полки '))\n",
    "    if shelf_new in shelf_list:\n",
    "        print (\"Полка существует\")\n",
    "    else:\n",
    "        print (\"Добавляю новую полку \")\n",
    "        shelf_list [shelf_new] = []"
   ]
  },
  {
   "cell_type": "code",
   "execution_count": 58,
   "metadata": {},
   "outputs": [
    {
     "name": "stdout",
     "output_type": "stream",
     "text": [
      "Введите номер новой полки 4\n",
      "Добавляю новую полку \n",
      "{'1': ['2207 876234', '11-2'], '2': ['10006'], '3': [], '4': []}\n"
     ]
    }
   ],
   "source": [
    "shelf_new = str(input ('Введите номер новой полки '))\n",
    "add_shelf (directories)\n",
    "print(directories)"
   ]
  },
  {
   "cell_type": "code",
   "execution_count": 63,
   "metadata": {},
   "outputs": [],
   "source": [
    "# d – delete – команда, которая спросит номер документа и удалит его из каталога и из перечня полок. \n",
    "# Предусмотрите сценарий, когда пользователь вводит несуществующий документ;\n",
    "documents = [\n",
    "    {'type': 'passport', 'number': '2207 876234', 'name': 'Василий Гупкин'},\n",
    "    {'type': 'invoice', 'number': '11-2', 'name': 'Геннадий Покемонов'},\n",
    "    {'type': 'insurance', 'number': '10006', 'name': 'Аристарх Павлов'}\n",
    "]\n",
    "directories = {\n",
    "    '1': ['2207 876234', '11-2'],\n",
    "    '2': ['10006'],\n",
    "    '3': []\n",
    "}"
   ]
  },
  {
   "cell_type": "code",
   "execution_count": 64,
   "metadata": {},
   "outputs": [],
   "source": [
    "def check_doc (d_l):  #Функция проверки существования документа\n",
    "    for num_doc in d_l:\n",
    "        if num_doc['number'] == num_doc_kl:\n",
    "            return True \n",
    "\n",
    "def del_doc (doc_list):# Функция, удаляющая документ из списка документов\n",
    "    i=0\n",
    "    for num_doc in doc_list:\n",
    "#     print (num_doc)\n",
    "        if num_doc['number'] == num_doc_kl:\n",
    "            del(doc_list[i])\n",
    "        else:\n",
    "            i+=1\n",
    "    return print ('Текущий список документов  ', doc_list)\n",
    "    print (\"Такого документа не существует\")\n",
    "# del_doc(documents)\n",
    "\n",
    "def del_shelf (shelf_list):# Функция, удаляющая документ с полки\n",
    "    i=0\n",
    "    for doc in shelf_list.items():\n",
    "#     print (doc[1])\n",
    "        for document in doc[1]:\n",
    "            if document == num_doc_kl:\n",
    "                doc[1].remove(document)\n",
    "#             print (doc)\n",
    "            else:\n",
    "                i = i + 1\n",
    "    return  print ('Cписок содержимого полок', shelf_list)\n",
    "\n",
    "# del_shelf(directories)\n",
    "\n",
    "def main ():\n",
    "    if not check_doc(documents): \n",
    "        print (\"Неверный номер документа. Операция невозможна\" )\n",
    "\n",
    "    else:\n",
    "        print (\"Документ удален\" )\n",
    "        \n",
    "        del_doc(documents)\n",
    "\n",
    "        del_shelf(directories)"
   ]
  },
  {
   "cell_type": "code",
   "execution_count": 65,
   "metadata": {},
   "outputs": [
    {
     "name": "stdout",
     "output_type": "stream",
     "text": [
      "Введите номер документа 11-2\n",
      "Документ удален\n",
      "Текущий список документов   [{'type': 'passport', 'number': '2207 876234', 'name': 'Василий Гупкин'}, {'type': 'insurance', 'number': '10006', 'name': 'Аристарх Павлов'}]\n",
      "Cписок содержимого полок {'1': ['2207 876234'], '2': ['10006'], '3': []}\n"
     ]
    }
   ],
   "source": [
    "num_doc_kl = str(input ('Введите номер документа '))\n",
    "\n",
    "main ()"
   ]
  },
  {
   "cell_type": "code",
   "execution_count": 8,
   "metadata": {},
   "outputs": [],
   "source": [
    "# m – move – команда, которая спросит номер документа и целевую полку и переместит его с текущей полки на целевую\n",
    "documents = [\n",
    "    {'type': 'passport', 'number': '2207 876234', 'name': 'Василий Гупкин'},\n",
    "    {'type': 'invoice', 'number': '11-2', 'name': 'Геннадий Покемонов'},\n",
    "    {'type': 'insurance', 'number': '10006', 'name': 'Аристарх Павлов'}\n",
    "]\n",
    "directories = {\n",
    "    '1': ['2207 876234', '11-2'],\n",
    "    '2': ['10006'],\n",
    "    '3': []\n",
    "}"
   ]
  },
  {
   "cell_type": "code",
   "execution_count": 9,
   "metadata": {},
   "outputs": [],
   "source": [
    "def check_doc (d_l): #Функция проверки номера документа\n",
    "    for num_doc in d_l:\n",
    "        if num_doc['number'] == num_doc_kl:\n",
    "            return True\n",
    "\n",
    "def check_shelf (shelf_l): #Функция проверки наличия полки\n",
    "    if shelf_num in shelf_l:\n",
    "        return True\n",
    "\n",
    "def move_doc(direct_dict): #Функция переноса на целевую полку\n",
    "    i = 0\n",
    "    for doc in direct_dict.items():\n",
    "        for document in doc[1]:\n",
    "#             print (document)\n",
    "            if document == num_doc_kl:\n",
    "                doc[1].remove(document)\n",
    "            else:\n",
    "                i = i + 1\n",
    "        if doc[0] == shelf_num:\n",
    "            doc[1].append(num_doc_kl)\n",
    "            break\n",
    "    return  direct_dict\n",
    "        \n",
    "# move_doc(directories)\n"
   ]
  },
  {
   "cell_type": "code",
   "execution_count": 11,
   "metadata": {},
   "outputs": [
    {
     "name": "stdout",
     "output_type": "stream",
     "text": [
      "Введите номер документа 11-2\n",
      "Введите номер целевой полки: 3\n",
      "Перемещаю документ 11-2 на полку 3\n",
      "Cписок содержимого полок:  {'1': ['2207 876234'], '2': ['10006'], '3': ['11-2']}\n"
     ]
    }
   ],
   "source": [
    "num_doc_kl = str(input ('Введите номер документа '))\n",
    "if not check_doc(documents): \n",
    "    print (\"Неверный номер документа. Операция невозможна\" )\n",
    "else:\n",
    "    shelf_num = input('Введите номер целевой полки: ')\n",
    "    if not check_shelf(directories):      \n",
    "        print (\"Неверный номер полки. Операция невозможна\" )\n",
    "    else:\n",
    "        print (f'Перемещаю документ {num_doc_kl} на полку {shelf_num}')\n",
    "        move_doc(directories)\n",
    "        print('Cписок содержимого полок: ', directories)"
   ]
  },
  {
   "cell_type": "code",
   "execution_count": 8,
   "metadata": {},
   "outputs": [],
   "source": [
    "# a – add – команда, которая добавит новый документ в каталог и в перечень полок, спросив его номер, тип, имя владельца и номер полки, на котором он будет храниться. \n",
    "# Корректно обработайте ситуацию, когда пользователь будет пытаться добавить документ на несуществующую полку.\n",
    "documents = [\n",
    "    {'type': 'passport', 'number': '2207 876234', 'name': 'Василий Гупкин'},\n",
    "    {'type': 'invoice', 'number': '11-2', 'name': 'Геннадий Покемонов'},\n",
    "    {'type': 'insurance', 'number': '10006', 'name': 'Аристарх Павлов'}\n",
    "]\n",
    "directories = {\n",
    "    '1': ['2207 876234', '11-2'],\n",
    "    '2': ['10006'],\n",
    "    '3': []\n",
    "}"
   ]
  },
  {
   "cell_type": "code",
   "execution_count": 9,
   "metadata": {},
   "outputs": [],
   "source": [
    "def check_shelf (shelf_l): #Функция проверки наличия целевой полки\n",
    "    if shelf_num in shelf_l:\n",
    "        return True\n",
    "# print (check_shelf (directories))\n",
    "\n",
    "def add_doc(direct_dict): #Функция добавления информации о новом документе на полку\n",
    "    for doc in directories.items():\n",
    "        if doc[0] == shelf_num:\n",
    "               doc[1].append(doc_number)          \n",
    "    return direct_dict\n",
    "# add_doc(directories)\n",
    "\n",
    "def add_docs(document_list):  #Функция добавления информации о человеке в список документов\n",
    "    documents.append({'type': doc_type, 'number': doc_number, 'name': doc_name})\n",
    "    return document_list\n",
    "# add_docs(documents)\n"
   ]
  },
  {
   "cell_type": "code",
   "execution_count": 10,
   "metadata": {},
   "outputs": [
    {
     "name": "stdout",
     "output_type": "stream",
     "text": [
      "Введите номер документа 97520\n",
      "Введите тип документа: паспорт\n",
      "Введите имя владельца: Иванов Кузя\n",
      "Введите номер полки: 3\n",
      "Информация о клиенте Иванов Кузя и его документе - паспорт 97520, помещена на полку 3\n",
      "Текущий список документов [{'type': 'passport', 'number': '2207 876234', 'name': 'Василий Гупкин'}, {'type': 'invoice', 'number': '11-2', 'name': 'Геннадий Покемонов'}, {'type': 'insurance', 'number': '10006', 'name': 'Аристарх Павлов'}, {'type': 'паспорт', 'number': '97520', 'name': 'Иванов Кузя'}]\n",
      "Текущее содержимое полок {'1': ['2207 876234', '11-2'], '2': ['10006'], '3': ['97520']}\n"
     ]
    }
   ],
   "source": [
    "doc_number = str(input ('Введите номер документа '))\n",
    "doc_type = input('Введите тип документа: ')\n",
    "doc_name = input('Введите имя владельца: ')\n",
    "\n",
    "shelf_num = input('Введите номер полки: ')\n",
    "\n",
    "if not check_shelf(directories):      \n",
    "    print (\"Неверный номер полки. Операция невозможна\" )\n",
    "else:\n",
    "    print (f'Информация о клиенте {doc_name} и его документе - {doc_type} {doc_number}, помещена на полку {shelf_num}')\n",
    "    add_doc(directories)\n",
    "    add_docs(documents)\n",
    "    print (f'Текущий список документов {documents}')\n",
    "    print (f'Текущее содержимое полок {directories}')"
   ]
  },
  {
   "cell_type": "code",
   "execution_count": null,
   "metadata": {},
   "outputs": [],
   "source": []
  }
 ],
 "metadata": {
  "kernelspec": {
   "display_name": "Python 3",
   "language": "python",
   "name": "python3"
  },
  "language_info": {
   "codemirror_mode": {
    "name": "ipython",
    "version": 3
   },
   "file_extension": ".py",
   "mimetype": "text/x-python",
   "name": "python",
   "nbconvert_exporter": "python",
   "pygments_lexer": "ipython3",
   "version": "3.7.6"
  }
 },
 "nbformat": 4,
 "nbformat_minor": 4
}
