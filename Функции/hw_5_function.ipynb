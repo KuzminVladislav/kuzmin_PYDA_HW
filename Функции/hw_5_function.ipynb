{
 "cells": [
  {
   "cell_type": "markdown",
   "metadata": {},
   "source": [
    "Домашнее задание по Функциям"
   ]
  },
  {
   "cell_type": "markdown",
   "metadata": {},
   "source": [
    "Вы работаете секретарем и вам постоянно приходят различные документы. Вы должны быть очень внимательны, чтобы не потерять ни один документ. Каталог документов хранится в следующем виде:"
   ]
  },
  {
   "cell_type": "markdown",
   "metadata": {},
   "source": [
    "Необходимо реализовать пользовательские команды (внимание! это не название функций, которые должны быть выразительными, а команды, которые вводит пользователь, чтобы получить необходимый результат):\n",
    "\n",
    "p – people – команда, которая спросит номер документа и выведет имя человека, которому он принадлежит;\n",
    "s – shelf – команда, которая спросит номер документа и выведет номер полки, на которой он находится\n",
    "Правильно обработайте ситуации, когда пользователь будет вводить несуществующий документ.\n",
    "l – list – команда, которая выведет список всех документов в формате: passport \"2207 876234\" \"Василий Гупкин\"\n",
    "as – add shelf – команда, которая спросит номер новой полки и добавит ее в перечень. Предусмотрите случай, когда пользователь добавляет полку, которая уже существует.\n",
    "d – delete – команда, которая спросит номер документа и удалит его из каталога и из перечня полок. Предусмотрите сценарий, когда пользователь вводит несуществующий документ;\n",
    "m – move – команда, которая спросит номер документа и целевую полку и переместит его с текущей полки на целевую. Корректно обработайте кейсы, когда пользователь пытается переместить несуществующий документ или переместить документ на несуществующую полку;\n",
    "a – add – команда, которая добавит новый документ в каталог и в перечень полок, спросив его номер, тип, имя владельца и номер полки, на котором он будет храниться. Корректно обработайте ситуацию, когда пользователь будет пытаться добавить документ на несуществующую полку."
   ]
  },
  {
   "cell_type": "code",
   "execution_count": 3,
   "metadata": {},
   "outputs": [],
   "source": [
    "documents = [\n",
    "    {'type': 'passport', 'number': '2207 876234', 'name': 'Василий Гупкин'},\n",
    "    {'type': 'invoice', 'number': '11-2', 'name': 'Геннадий Покемонов'},\n",
    "    {'type': 'insurance', 'number': '10006', 'name': 'Аристарх Павлов'}\n",
    "]"
   ]
  },
  {
   "cell_type": "code",
   "execution_count": 2,
   "metadata": {},
   "outputs": [],
   "source": [
    "# Перечень полок, на которых находятся документы хранится в следующем виде:\n",
    "directories = {\n",
    "    '1': ['2207 876234', '11-2'],\n",
    "    '2': ['10006'],\n",
    "    '3': []\n",
    "}"
   ]
  },
  {
   "cell_type": "code",
   "execution_count": 66,
   "metadata": {},
   "outputs": [
    {
     "name": "stdout",
     "output_type": "stream",
     "text": [
      "Введите номер документа 1111\n",
      "Документ не существует\n"
     ]
    }
   ],
   "source": [
    "#p – people – команда, которая спросит номер документа и выведет имя человека, которому он принадлежит;\n",
    "# def num_doc(num_doc_klient):\n",
    "documents = [\n",
    "    {'type': 'passport', 'number': '2207 876234', 'name': 'Василий Гупкин'},\n",
    "    {'type': 'invoice', 'number': '11-2', 'name': 'Геннадий Покемонов'},\n",
    "    {'type': 'insurance', 'number': '10006', 'name': 'Аристарх Павлов'}\n",
    "]\n",
    "def num_doc(num_doc_klient):\n",
    "    num_doc_kl = str(input ('Введите номер документа '))\n",
    "    for doc in num_doc_klient:\n",
    "        if doc['number'] == num_doc_kl:\n",
    "            return print(f\"{'Владелец документа:  '}{ doc['name']}\")\n",
    "    print ('Документ не существует')\n",
    "    \n",
    "num_doc(documents)"
   ]
  },
  {
   "cell_type": "code",
   "execution_count": 64,
   "metadata": {},
   "outputs": [
    {
     "name": "stdout",
     "output_type": "stream",
     "text": [
      "Введите номер документа 10006\n",
      "Номер полки: 2\n"
     ]
    }
   ],
   "source": [
    "# s – shelf – команда, которая спросит номер документа и выведет номер полки, на которой он находится\n",
    "# Правильно обработайте ситуации, когда пользователь будет вводить несуществующий документ.\n",
    "directories = {\n",
    "    '1': ['2207 876234', '11-2'],\n",
    "    '2': ['10006'],\n",
    "    '3': []\n",
    "}\n",
    "\n",
    "def shelf_doc(num_shelf):\n",
    "    num_doc_kl = str(input ('Введите номер документа '))\n",
    "    for key, shelf in num_shelf.items():\n",
    "#         print (shelf)\n",
    "        if num_doc_kl in shelf :\n",
    "            return print(f\"{'Номер полки: '}{key}\")\n",
    "    print ('Документа не существует')\n",
    "\n",
    "shelf_doc(directories)"
   ]
  },
  {
   "cell_type": "code",
   "execution_count": 67,
   "metadata": {},
   "outputs": [
    {
     "name": "stdout",
     "output_type": "stream",
     "text": [
      "passport, 2207 876234, Василий Гупкин\n",
      "invoice, 11-2, Геннадий Покемонов\n",
      "insurance, 10006, Аристарх Павлов\n"
     ]
    }
   ],
   "source": [
    "# l – list – команда, которая выведет список всех документов в формате: passport \"2207 876234\" \"Василий Гупкин\"\n",
    "documents = [\n",
    "    {'type': 'passport', 'number': '2207 876234', 'name': 'Василий Гупкин'},\n",
    "    {'type': 'invoice', 'number': '11-2', 'name': 'Геннадий Покемонов'},\n",
    "    {'type': 'insurance', 'number': '10006', 'name': 'Аристарх Павлов'}\n",
    "]\n",
    "def doc_print (doc_list):\n",
    "    for info in doc_list:\n",
    "        print (info['type'], info['number'], info['name'], sep=', ')\n",
    "doc_print(documents)"
   ]
  },
  {
   "cell_type": "code",
   "execution_count": 69,
   "metadata": {},
   "outputs": [
    {
     "name": "stdout",
     "output_type": "stream",
     "text": [
      "Введите номер новой полки 3\n",
      "Полка уже существует\n",
      "{'1': ['2207 876234', '11-2'], '2': ['10006'], '3': []}\n"
     ]
    }
   ],
   "source": [
    "# as – add shelf – команда, которая спросит номер новой полки и добавит ее в перечень. \n",
    "# Предусмотрите случай, когда пользователь добавляет полку, которая уже существует.\n",
    "directories = {\n",
    "    '1': ['2207 876234', '11-2'],\n",
    "    '2': ['10006'],\n",
    "    '3': []\n",
    "}\n",
    "def add_shelf(shelf_list):\n",
    "    shelf_new = str(input ('Введите номер новой полки '))\n",
    "    if shelf_new in shelf_list:\n",
    "        print (\"Полка уже существует\")\n",
    "    else:\n",
    "        print (\"Добавляю новую полку \")\n",
    "        shelf_list [shelf_new] = []\n",
    "add_shelf (directories)\n",
    "print(directories)"
   ]
  },
  {
   "cell_type": "markdown",
   "metadata": {},
   "source": [
    "d – delete – команда, которая спросит номер документа и удалит его из каталога и из перечня полок. Предусмотрите сценарий, когда пользователь вводит несуществующий документ;"
   ]
  },
  {
   "cell_type": "code",
   "execution_count": 71,
   "metadata": {},
   "outputs": [
    {
     "name": "stdout",
     "output_type": "stream",
     "text": [
      "Введите номер документа 2000\n",
      "!!!!!Документ не существует!!!!!\n",
      "Текущий список документов   [{'type': 'passport', 'number': '2207 876234', 'name': 'Василий Гупкин'}, {'type': 'invoice', 'number': '11-2', 'name': 'Геннадий Покемонов'}, {'type': 'insurance', 'number': '10006', 'name': 'Аристарх Павлов'}]\n",
      "Cписок содержимого полок {'1': ['2207 876234', '11-2'], '2': ['10006'], '3': []}\n"
     ]
    }
   ],
   "source": [
    "# d – delete – команда, которая спросит номер документа и удалит его из каталога и из перечня полок. \n",
    "# Предусмотрите сценарий, когда пользователь вводит несуществующий документ;\n",
    "documents = [\n",
    "    {'type': 'passport', 'number': '2207 876234', 'name': 'Василий Гупкин'},\n",
    "    {'type': 'invoice', 'number': '11-2', 'name': 'Геннадий Покемонов'},\n",
    "    {'type': 'insurance', 'number': '10006', 'name': 'Аристарх Павлов'}\n",
    "]\n",
    "directories = {\n",
    "    '1': ['2207 876234', '11-2'],\n",
    "    '2': ['10006'],\n",
    "    '3': []\n",
    "}\n",
    "\n",
    "num_doc_kl = str(input ('Введите номер документа '))\n",
    "\n",
    "def main ():\n",
    "    \n",
    "    check_doc (documents)\n",
    "\n",
    "    del_doc(documents)\n",
    "\n",
    "    del_shelf(directories)\n",
    "\n",
    "main ()"
   ]
  },
  {
   "cell_type": "code",
   "execution_count": 70,
   "metadata": {},
   "outputs": [],
   "source": [
    "def check_doc (d_l):\n",
    "    for num_doc in d_l:\n",
    "        if num_doc['number'] == num_doc_kl:\n",
    "            return print(\"Документ существует\")\n",
    "    print ('!!!!!Документ не существует!!!!!')\n",
    "# check_doc (documents)\n",
    "\n",
    "def del_doc (doc_list):\n",
    "    i=0\n",
    "    for num_doc in doc_list:\n",
    "#     print (num_doc)\n",
    "        if num_doc['number'] == num_doc_kl:\n",
    "            del(doc_list[i])\n",
    "        else:\n",
    "            i+=1\n",
    "    return print ('Текущий список документов  ', doc_list)\n",
    "    print (\"Такого документа не существует\")\n",
    "# del_doc(documents)\n",
    "\n",
    "def del_shelf (shelf_list):\n",
    "    i=0\n",
    "    for doc in shelf_list.items():\n",
    "#     print (doc[1])\n",
    "        for document in doc[1]:\n",
    "            if document == num_doc_kl:\n",
    "                doc[1].remove(document)\n",
    "#             print (doc)\n",
    "            else:\n",
    "                i = i + 1\n",
    "    return  print ('Cписок содержимого полок', shelf_list)\n",
    "\n",
    "# del_shelf(directories)"
   ]
  },
  {
   "cell_type": "code",
   "execution_count": 26,
   "metadata": {},
   "outputs": [
    {
     "name": "stdout",
     "output_type": "stream",
     "text": [
      "Введите номер документа: 11-2\n",
      "Введите номер целевой полки: 3\n",
      "{'1': ['2207 876234'], '2': ['10006'], '3': ['11-2'], '6': []}\n"
     ]
    }
   ],
   "source": [
    "# m – move – команда, которая спросит номер документа и целевую полку и переместит его с текущей полки на целевую\n",
    "directories = {\n",
    "    '1': ['2207 876234', '11-2'],\n",
    "    '2': ['10006'],\n",
    "    '3': []\n",
    "}\n",
    "\n",
    "def move_doc(direct_dict):\n",
    "    i = 0\n",
    "    num_doc_kl = input('Введите номер документа: ')   \n",
    "    shelf_num = input('Введите номер целевой полки: ')\n",
    "    for doc in direct_dict.items():\n",
    "        for document in doc[1]:\n",
    "            if document == num_doc_kl:\n",
    "                doc[1].remove(document)\n",
    "            else:\n",
    "                i = i + 1\n",
    "        if i == len(direct_dict):\n",
    "            print('Документ отсутствует')\n",
    "            break\n",
    "        if int(shelf_num) > len(direct_dict):\n",
    "            print('Полка не существует')\n",
    "            break\n",
    " \n",
    "        if doc[0] == shelf_num:\n",
    "            doc[1].append(num_doc_kl)\n",
    "            break\n",
    "    return print(direct_dict)\n",
    "        \n",
    "move_doc(directories)"
   ]
  },
  {
   "cell_type": "code",
   "execution_count": 30,
   "metadata": {},
   "outputs": [],
   "source": [
    "# m – move – команда, которая спросит номер документа и целевую полку и переместит его с текущей полки на целевую\n",
    "documents = [\n",
    "    {'type': 'passport', 'number': '2207 876234', 'name': 'Василий Гупкин'},\n",
    "    {'type': 'invoice', 'number': '11-2', 'name': 'Геннадий Покемонов'},\n",
    "    {'type': 'insurance', 'number': '10006', 'name': 'Аристарх Павлов'}\n",
    "]\n",
    "directories = {\n",
    "    '1': ['2207 876234', '11-2'],\n",
    "    '2': ['10006'],\n",
    "    '3': []\n",
    "}\n",
    "# num_doc_kl = str(input ('Введите номер документа '))\n",
    "# shelf_num = input('Введите номер целевой полки: ')\n"
   ]
  },
  {
   "cell_type": "code",
   "execution_count": 2,
   "metadata": {},
   "outputs": [],
   "source": [
    "# num_doc_kl = str(input ('Введите номер документа '))\n",
    "def check_doc (d_l):\n",
    "    for num_doc in d_l:\n",
    "        if num_doc['number'] == num_doc_kl:\n",
    "            return True\n",
    "#     print ('!!!Документ не существует!!!')\n",
    "\n",
    "# check_doc (documents)\n"
   ]
  },
  {
   "cell_type": "code",
   "execution_count": 3,
   "metadata": {},
   "outputs": [],
   "source": [
    "# shelf_num = input('Введите номер целевой полки: ')\n",
    "def check_shelf (shelf_l):\n",
    "    if shelf_num in shelf_l:\n",
    "        return True\n",
    "#     print (\"!!!Полка не существует. Перенос не разрешен.!!!\")\n",
    "    \n",
    "# print (check_shelf (directories))"
   ]
  },
  {
   "cell_type": "code",
   "execution_count": 22,
   "metadata": {},
   "outputs": [
    {
     "name": "stdout",
     "output_type": "stream",
     "text": [
      "Cписок содержимого полок:  {'1': ['2207 876234'], '2': ['10006'], '3': ['11-2']}\n"
     ]
    }
   ],
   "source": [
    "def move_doc(direct_dict):\n",
    "    i = 0\n",
    "    for doc in direct_dict.items():\n",
    "        for document in doc[1]:\n",
    "#             print (document)\n",
    "            if document == num_doc_kl:\n",
    "                doc[1].remove(document)\n",
    "            else:\n",
    "                i = i + 1\n",
    "        \n",
    "        if doc[0] == shelf_num:\n",
    "            doc[1].append(num_doc_kl)\n",
    "            break\n",
    "    return print('Cписок содержимого полок: ', direct_dict)\n",
    "        \n",
    "move_doc(directories)"
   ]
  },
  {
   "cell_type": "code",
   "execution_count": 31,
   "metadata": {},
   "outputs": [
    {
     "name": "stdout",
     "output_type": "stream",
     "text": [
      "Введите номер документа 11-2\n",
      "Введите номер целевой полки: 3\n",
      "Cписок содержимого полок:  {'1': ['2207 876234'], '2': ['10006'], '3': ['11-2']}\n"
     ]
    }
   ],
   "source": [
    "num_doc_kl = str(input ('Введите номер документа '))\n",
    "shelf_num = input('Введите номер целевой полки: ')\n",
    "def main():\n",
    "    if not check_doc(documents): \n",
    "        print (\"Неверный номер документа. Операция невозможна\" )\n",
    "\n",
    "    elif not check_shelf(directories):      \n",
    "        print (\"Неверный номер полки. Операция невозможна\" )\n",
    "    else:\n",
    "        move_doc(directories)\n",
    "main()"
   ]
  },
  {
   "cell_type": "markdown",
   "metadata": {},
   "source": [
    "a – add – команда, которая добавит новый документ в каталог и в перечень полок, спросив его номер, тип, имя владельца и номер полки, на котором он будет храниться. Корректно обработайте ситуацию, когда пользователь будет пытаться добавить документ на несуществующую полку."
   ]
  },
  {
   "cell_type": "code",
   "execution_count": 43,
   "metadata": {},
   "outputs": [
    {
     "name": "stdout",
     "output_type": "stream",
     "text": [
      "Введите номер нового документа: 635\n",
      "Введите номер полки: 4\n",
      "Введите тип документа: паспорт\n",
      "Введите имя владельца: Кузя3\n",
      "Неверный номер полки. Операция невозможна\n"
     ]
    }
   ],
   "source": [
    "# a – add – команда, которая добавит новый документ в каталог и в перечень полок, спросив его номер, тип, имя владельца и номер полки, на котором он будет храниться. \n",
    "# Корректно обработайте ситуацию, когда пользователь будет пытаться добавить документ на несуществующую полку.\n",
    "documents = [\n",
    "    {'type': 'passport', 'number': '2207 876234', 'name': 'Василий Гупкин'},\n",
    "    {'type': 'invoice', 'number': '11-2', 'name': 'Геннадий Покемонов'},\n",
    "    {'type': 'insurance', 'number': '10006', 'name': 'Аристарх Павлов'}\n",
    "]\n",
    "directories = {\n",
    "    '1': ['2207 876234', '11-2'],\n",
    "    '2': ['10006'],\n",
    "    '3': []\n",
    "}\n",
    "doc_number = input('Введите номер нового документа: ')   \n",
    "shelf_num = input('Введите номер полки: ')\n",
    "doc_type = input('Введите тип документа: ')\n",
    "doc_name = input('Введите имя владельца: ')\n",
    "\n",
    "main1()\n"
   ]
  },
  {
   "cell_type": "code",
   "execution_count": 44,
   "metadata": {},
   "outputs": [
    {
     "name": "stdout",
     "output_type": "stream",
     "text": [
      "None\n",
      "{'1': ['2207 876234', '11-2'], '2': ['10006'], '3': []}\n",
      "[{'type': 'passport', 'number': '2207 876234', 'name': 'Василий Гупкин'}, {'type': 'invoice', 'number': '11-2', 'name': 'Геннадий Покемонов'}, {'type': 'insurance', 'number': '10006', 'name': 'Аристарх Павлов'}, {'type': 'паспорт', 'number': '635', 'name': 'Кузя3'}]\n"
     ]
    }
   ],
   "source": [
    "def check_shelf (shelf_l):\n",
    "    if shelf_num in shelf_l:\n",
    "        return True\n",
    "print (check_shelf (directories))\n",
    "\n",
    "def add_doc(direct_dict):\n",
    "    for doc in directories.items():\n",
    "        if doc[0] == shelf_num:\n",
    "               doc[1].append(doc_number)          \n",
    "    print(direct_dict)\n",
    "add_doc(directories)\n",
    "\n",
    "def add_docs(document_list):  \n",
    "    documents.append({'type': doc_type, 'number': doc_number, 'name': doc_name})\n",
    "    print(document_list)\n",
    "add_docs(documents)\n",
    "\n",
    "def main1():\n",
    "    if not check_shelf(directories):      \n",
    "        print (\"Неверный номер полки. Операция невозможна\" )\n",
    "    else:\n",
    "        add_doc(directories)\n",
    "        add_docs(documents)"
   ]
  }
 ],
 "metadata": {
  "kernelspec": {
   "display_name": "Python 3",
   "language": "python",
   "name": "python3"
  },
  "language_info": {
   "codemirror_mode": {
    "name": "ipython",
    "version": 3
   },
   "file_extension": ".py",
   "mimetype": "text/x-python",
   "name": "python",
   "nbconvert_exporter": "python",
   "pygments_lexer": "ipython3",
   "version": "3.7.6"
  }
 },
 "nbformat": 4,
 "nbformat_minor": 4
}
