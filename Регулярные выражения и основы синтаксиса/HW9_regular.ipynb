{
 "cells": [
  {
   "cell_type": "markdown",
   "metadata": {},
   "source": [
    "Домашняя работа №9 по регулярным выражениям"
   ]
  },
  {
   "cell_type": "code",
   "execution_count": 2,
   "metadata": {},
   "outputs": [],
   "source": [
    "import re"
   ]
  },
  {
   "cell_type": "markdown",
   "metadata": {},
   "source": [
    "Задание 1.\n",
    "Напишите функцию, которая принимает на вход строку и проверяет является ли она валидным транспортным номером. Если да, то функция должна возвращать отдельно номер и регион.\n"
   ]
  },
  {
   "cell_type": "code",
   "execution_count": 189,
   "metadata": {},
   "outputs": [
    {
     "name": "stdout",
     "output_type": "stream",
     "text": [
      "Номер 107, Регион 799\n"
     ]
    },
    {
     "data": {
      "text/plain": [
       "('107', '799')"
      ]
     },
     "execution_count": 189,
     "metadata": {},
     "output_type": "execute_result"
    }
   ],
   "source": [
    "tr_number = 'X107TA799'\n",
    "def check_tr_number (number):\n",
    "    tr_num_val = r'([A-Z]{1})(\\d{3})([A-Z]{2})(\\d{3})'\n",
    "#     tr_rezult = re.findall(tr_num_val,tr_number)\n",
    "#     print (tr_rezult)\n",
    "    if  re.findall(tr_num_val,tr_number):\n",
    "        rezult = re.search(tr_num_val, tr_number)\n",
    "        print (f'Номер {rezult.group(2)}, Регион {rezult.group(4)}')\n",
    "        return rezult.group(2), rezult.group(4)\n",
    "    else:\n",
    "        return print ('Tранспортный номер не валиден')\n",
    "check_tr_number (tr_number)\n"
   ]
  },
  {
   "cell_type": "markdown",
   "metadata": {},
   "source": [
    "Задание 2.\n",
    "Постарайтесь написать (в крайнем случае найти) самый полный шаблон для проверки e-mail адресов через регулярное выражение, которая проверяет e-mail адрес на валидность. Можно руководствоваться следующими минимальными требованиями:\n",
    "• адрес должен содержать специальный символ “@”, который отделяет имя пользователя почтовой системы от доменного имени;\n",
    "• адрес не должен содержать следующие символы: “пробел”, “,”, “:”, “;”, “!”, “#”, “%”, “*”, “(”, “)”, “=”, “+”, “{”, “}”, \" \" \", \" ’ \", \" / \", \" \\ \" и “|”;\n",
    "• адрес должен состоять только из латинских символов;\n",
    "• после символа “@” должна быть как минимум одна “.”;\n",
    "• после последней точки должно быть не менее 2-х и не более 4-х символов, причем наличие цифр не допускается;\n",
    "• между последней точкой и символом “@” должно быть не менее 2-х символов\n",
    "• слева от “@” должно быть не менее четырех символов\n"
   ]
  },
  {
   "cell_type": "code",
   "execution_count": 182,
   "metadata": {},
   "outputs": [
    {
     "data": {
      "text/plain": [
       "[('wlad01', 'gmail.', 'com')]"
      ]
     },
     "execution_count": 182,
     "metadata": {},
     "output_type": "execute_result"
    }
   ],
   "source": [
    "id_mail ='wlad01@gmail.com'\n",
    "mail = r'(^[-a-z0-9_.]{4,})+@([-a-z0-9]+\\.)+([a-z]{2,4})' # для минимальных  требований\n",
    "re.findall(mail,id_mail)"
   ]
  },
  {
   "cell_type": "markdown",
   "metadata": {},
   "source": [
    "Задание 3.\n",
    "Напишите функцию, которая будет удалять все последовательные повторы слов из заданной строки при помощи регулярных выражений.\n",
    "\n"
   ]
  },
  {
   "cell_type": "code",
   "execution_count": 190,
   "metadata": {},
   "outputs": [
    {
     "name": "stdout",
     "output_type": "stream",
     "text": [
      "[('Шла', ' Шла'), ('Саша', ' Саша'), ('по', ' по'), ('шоссе', ' шоссе'), ('сосала', ' сосала'), ('сушки', ' сушки')]\n",
      "Шла Саша по шоссе и сосала сушки\n"
     ]
    }
   ],
   "source": [
    "sasha = \"Шла Шла Шла Саша Саша Саша по по шоссе шоссе шоссе и сосала сосала сушки сушки\"\n",
    "x= re.findall (r'([^\\W\\d]+)(\\s+\\1)', sasha)\n",
    "print (x)\n",
    "print(re.sub(r'([^\\W\\d]+)(\\s+\\1)+', r'\\1', sasha))"
   ]
  },
  {
   "cell_type": "markdown",
   "metadata": {},
   "source": [
    "Задание 4.\n",
    "Напишите функцию, которая будет проверять номер сотового телефона на валидность, если он валиден, то переводить его в формат:\n",
    "+7(xxx)-xxx-xx-xx\n",
    "Постарайтесь предусмотреть как можно больше адекватных форматов изначального ввода номера. Примеры валидных форматов:\n",
    "• +7 955 555-55-55;\n",
    "• 9555555555;\n",
    "• 8(955)555-55-55;\n",
    "• +7 955 555 55 55;\n",
    "• 7(955) 555-55-55;\n",
    "• +7 955+555+55+55."
   ]
  },
  {
   "cell_type": "code",
   "execution_count": 115,
   "metadata": {},
   "outputs": [
    {
     "data": {
      "text/plain": [
       "'+7(955)-555-55-55'"
      ]
     },
     "execution_count": 115,
     "metadata": {},
     "output_type": "execute_result"
    }
   ],
   "source": [
    "example ='+7 955 555-55-55'\n",
    "\n",
    "def check_number (number):\n",
    "    all_format = r'(\\W?)(\\d{0,1})(\\W?)(\\d{3})(\\W?)\\W*(\\d{3})\\W*(\\d{2})\\W*(\\d{2})' #разбор номера на 8 составных частей\n",
    "#     print(re.findall (all_format,example))\n",
    "    if re.findall (all_format,number):\n",
    "        return re.sub (all_format, r'+7(\\4)-\\6-\\7-\\8', number)\n",
    "    else:\n",
    "        print ('Номер не валиден')\n",
    "check_number(example)\n"
   ]
  },
  {
   "cell_type": "code",
   "execution_count": 110,
   "metadata": {},
   "outputs": [
    {
     "name": "stdout",
     "output_type": "stream",
     "text": [
      "+7(955)-555-55-55\n",
      "+7(955)-555-55-55\n",
      "+7(955)-555-55-55\n",
      "+7(955)-555-55-55\n",
      "+7(955)-555-55-55\n",
      "+7(955)-555-55-55\n"
     ]
    }
   ],
   "source": [
    "examples=('+7 955 555-55-55', '9555555555', '8(955)555-55-55','+7 955 555 55 55','7(955) 555-55-55','+7 955+555+55+55')\n",
    "for x in examples:\n",
    "    print (check_number (x))"
   ]
  },
  {
   "cell_type": "code",
   "execution_count": null,
   "metadata": {},
   "outputs": [],
   "source": []
  }
 ],
 "metadata": {
  "kernelspec": {
   "display_name": "Python 3",
   "language": "python",
   "name": "python3"
  },
  "language_info": {
   "codemirror_mode": {
    "name": "ipython",
    "version": 3
   },
   "file_extension": ".py",
   "mimetype": "text/x-python",
   "name": "python",
   "nbconvert_exporter": "python",
   "pygments_lexer": "ipython3",
   "version": "3.7.6"
  }
 },
 "nbformat": 4,
 "nbformat_minor": 4
}
